{
 "cells": [
  {
   "cell_type": "code",
   "execution_count": 1,
   "metadata": {},
   "outputs": [
    {
     "name": "stdout",
     "output_type": "stream",
     "text": [
      "Results will be stored at c:\\Users\\Antoine\\Desktop\\JupyterNotebooks\\bootstrap_extreme\\output_runs\\2022_12_15\\9_59_3_de_hann_98_extreme_subsample_size\n"
     ]
    },
    {
     "name": "stderr",
     "output_type": "stream",
     "text": [
      "c:\\Users\\Antoine\\anaconda3\\envs\\bootstrap_env\\lib\\site-packages\\numpy\\core\\fromnumeric.py:86: VisibleDeprecationWarning: Creating an ndarray from ragged nested sequences (which is a list-or-tuple of lists-or-tuples-or ndarrays with different lengths or shapes) is deprecated. If you meant to do this, you must specify 'dtype=object' when creating the ndarray.\n",
      "  return ufunc.reduce(obj, axis, dtype, out, **passkwargs)\n"
     ]
    },
    {
     "data": {
      "application/vnd.jupyter.widget-view+json": {
       "model_id": "c88a79de555b459aa21bd0211c09b7cc",
       "version_major": 2,
       "version_minor": 0
      },
      "text/plain": [
       "size_sample_loop:   0%|          | 0/23 [00:00<?, ?it/s]"
      ]
     },
     "metadata": {},
     "output_type": "display_data"
    },
    {
     "name": "stderr",
     "output_type": "stream",
     "text": [
      "c:\\Users\\Antoine\\Desktop\\JupyterNotebooks\\bootstrap_extreme\\extreme_utils.py:97: RuntimeWarning: invalid value encountered in double_scalars\n",
      "  return moment_2_estimator/(2*gamma_moment_1_estimator(k, sample))\n"
     ]
    },
    {
     "data": {
      "text/plain": [
       "<Figure size 640x480 with 0 Axes>"
      ]
     },
     "metadata": {},
     "output_type": "display_data"
    }
   ],
   "source": [
    "# Test de_hann_98_with_extreme_subsampling_sizes (10% 50% 90%)\n",
    "\n",
    "from main_functions import *\n",
    "\n",
    "path_to_config = 'c:\\\\Users\\\\Antoine\\\\Desktop\\\\JupyterNotebooks\\\\bootstrap_extreme\\\\config_files\\\\'\n",
    "run_config_file(path_to_config + \"de_hann_98_extreme_subsample_size.json\")\n"
   ]
  }
 ],
 "metadata": {
  "kernelspec": {
   "display_name": "Python 3.10.8 ('bootstrap_env')",
   "language": "python",
   "name": "python3"
  },
  "language_info": {
   "codemirror_mode": {
    "name": "ipython",
    "version": 3
   },
   "file_extension": ".py",
   "mimetype": "text/x-python",
   "name": "python",
   "nbconvert_exporter": "python",
   "pygments_lexer": "ipython3",
   "version": "3.10.8 | packaged by conda-forge | (main, Nov 24 2022, 14:07:00) [MSC v.1916 64 bit (AMD64)]"
  },
  "orig_nbformat": 4,
  "vscode": {
   "interpreter": {
    "hash": "e6936c338c454de99b959ea668b82591ddd9473feb2e6e8d0519a5babddd5a8e"
   }
  }
 },
 "nbformat": 4,
 "nbformat_minor": 2
}
