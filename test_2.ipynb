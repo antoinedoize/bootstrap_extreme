{
 "cells": [
  {
   "cell_type": "code",
   "execution_count": 1,
   "metadata": {},
   "outputs": [
    {
     "name": "stdout",
     "output_type": "stream",
     "text": [
      "Results will be stored at c:\\Users\\Antoine\\Desktop\\JupyterNotebooks\\bootstrap_extreme\\output_runs\\2022_12_15\\9_58_14_de_hann_98_extreme_subsample_size \n"
     ]
    },
    {
     "ename": "FileNotFoundError",
     "evalue": "[Errno 2] No such file or directory: 'c:\\\\Users\\\\Antoine\\\\Desktop\\\\JupyterNotebooks\\\\bootstrap_extreme\\\\output_runs\\\\2022_12_15\\\\9_58_14_de_hann_98_extreme_subsample_size \\\\config_file_9_58_14.json'",
     "output_type": "error",
     "traceback": [
      "\u001b[1;31m---------------------------------------------------------------------------\u001b[0m",
      "\u001b[1;31mFileNotFoundError\u001b[0m                         Traceback (most recent call last)",
      "Cell \u001b[1;32mIn [1], line 6\u001b[0m\n\u001b[0;32m      3\u001b[0m \u001b[39mfrom\u001b[39;00m \u001b[39mmain_functions\u001b[39;00m \u001b[39mimport\u001b[39;00m \u001b[39m*\u001b[39m\n\u001b[0;32m      5\u001b[0m path_to_config \u001b[39m=\u001b[39m \u001b[39m'\u001b[39m\u001b[39mc:\u001b[39m\u001b[39m\\\\\u001b[39;00m\u001b[39mUsers\u001b[39m\u001b[39m\\\\\u001b[39;00m\u001b[39mAntoine\u001b[39m\u001b[39m\\\\\u001b[39;00m\u001b[39mDesktop\u001b[39m\u001b[39m\\\\\u001b[39;00m\u001b[39mJupyterNotebooks\u001b[39m\u001b[39m\\\\\u001b[39;00m\u001b[39mbootstrap_extreme\u001b[39m\u001b[39m\\\\\u001b[39;00m\u001b[39mconfig_files\u001b[39m\u001b[39m\\\\\u001b[39;00m\u001b[39m'\u001b[39m\n\u001b[1;32m----> 6\u001b[0m run_config_file(path_to_config \u001b[39m+\u001b[39;49m \u001b[39m\"\u001b[39;49m\u001b[39mde_hann_98_extreme_subsample_size.json\u001b[39;49m\u001b[39m\"\u001b[39;49m)\n",
      "File \u001b[1;32mc:\\Users\\Antoine\\Desktop\\JupyterNotebooks\\bootstrap_extreme\\main_functions.py:246\u001b[0m, in \u001b[0;36mrun_config_file\u001b[1;34m(config_path)\u001b[0m\n\u001b[0;32m    245\u001b[0m \u001b[39mdef\u001b[39;00m \u001b[39mrun_config_file\u001b[39m(config_path):\n\u001b[1;32m--> 246\u001b[0m     path_run, time_hash, config \u001b[39m=\u001b[39m save_results_initialization(config_path)\n\u001b[0;32m    247\u001b[0m     function_to_run \u001b[39m=\u001b[39m config[\u001b[39m\"\u001b[39m\u001b[39mfunction_to_run\u001b[39m\u001b[39m\"\u001b[39m]\n\u001b[0;32m    248\u001b[0m     \u001b[39mif\u001b[39;00m function_to_run \u001b[39m==\u001b[39m \u001b[39m\"\u001b[39m\u001b[39mrun_variance_vs_size_sample_from_config\u001b[39m\u001b[39m\"\u001b[39m:\n",
      "File \u001b[1;32mc:\\Users\\Antoine\\Desktop\\JupyterNotebooks\\bootstrap_extreme\\main_functions.py:198\u001b[0m, in \u001b[0;36msave_results_initialization\u001b[1;34m(config_path)\u001b[0m\n\u001b[0;32m    196\u001b[0m os\u001b[39m.\u001b[39mmkdir(path_run)\n\u001b[0;32m    197\u001b[0m \u001b[39mprint\u001b[39m(\u001b[39mf\u001b[39m\u001b[39m\"\u001b[39m\u001b[39mResults will be stored at \u001b[39m\u001b[39m{\u001b[39;00mpath_run\u001b[39m}\u001b[39;00m\u001b[39m\"\u001b[39m)\n\u001b[1;32m--> 198\u001b[0m \u001b[39mwith\u001b[39;00m \u001b[39mopen\u001b[39;49m(path_run\u001b[39m+\u001b[39;49m\u001b[39m\"\u001b[39;49m\u001b[39m\\\\\u001b[39;49;00m\u001b[39mconfig_file_\u001b[39;49m\u001b[39m\"\u001b[39;49m\u001b[39m+\u001b[39;49mtime_hash\u001b[39m+\u001b[39;49m\u001b[39m\"\u001b[39;49m\u001b[39m.json\u001b[39;49m\u001b[39m\"\u001b[39;49m, \u001b[39m\"\u001b[39;49m\u001b[39mw\u001b[39;49m\u001b[39m\"\u001b[39;49m) \u001b[39mas\u001b[39;00m outfile:\n\u001b[0;32m    199\u001b[0m     json\u001b[39m.\u001b[39mdump(config, outfile)\n\u001b[0;32m    200\u001b[0m \u001b[39mreturn\u001b[39;00m path_run, time_hash, config\n",
      "\u001b[1;31mFileNotFoundError\u001b[0m: [Errno 2] No such file or directory: 'c:\\\\Users\\\\Antoine\\\\Desktop\\\\JupyterNotebooks\\\\bootstrap_extreme\\\\output_runs\\\\2022_12_15\\\\9_58_14_de_hann_98_extreme_subsample_size \\\\config_file_9_58_14.json'"
     ]
    }
   ],
   "source": [
    "# Test de_hann_98_with_several_subsampling_sizes\n",
    "\n",
    "from main_functions import *\n",
    "\n",
    "path_to_config = 'c:\\\\Users\\\\Antoine\\\\Desktop\\\\JupyterNotebooks\\\\bootstrap_extreme\\\\config_files\\\\'\n",
    "run_config_file(path_to_config + \"de_hann_98_extreme_subsample_size.json\")\n"
   ]
  }
 ],
 "metadata": {
  "kernelspec": {
   "display_name": "Python 3.10.8 ('bootstrap_env')",
   "language": "python",
   "name": "python3"
  },
  "language_info": {
   "codemirror_mode": {
    "name": "ipython",
    "version": 3
   },
   "file_extension": ".py",
   "mimetype": "text/x-python",
   "name": "python",
   "nbconvert_exporter": "python",
   "pygments_lexer": "ipython3",
   "version": "3.10.8"
  },
  "orig_nbformat": 4,
  "vscode": {
   "interpreter": {
    "hash": "e6936c338c454de99b959ea668b82591ddd9473feb2e6e8d0519a5babddd5a8e"
   }
  }
 },
 "nbformat": 4,
 "nbformat_minor": 2
}
