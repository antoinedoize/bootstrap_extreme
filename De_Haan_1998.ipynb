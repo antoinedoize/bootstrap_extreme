{
 "cells": [
  {
   "cell_type": "markdown",
   "metadata": {},
   "source": [
    "# Using a Bootstrap Method to Choose the Sample Fraction in Tail Index Estimation\n",
    "### Generation of data\n",
    "\n",
    "#### Distribution\n",
    "On peut utiliser des données i.i.d. :\n",
    "- [x] Student-t\n",
    "- [x] type 2 (=Frechet) extreme value distribution\n",
    "- [ ] generalized extreme value distribution (pas dans l'article)\n",
    "\n",
    "On peut utiliser des données dépendantes :\n",
    "- [ ] MA(1) process avec des variables cachées de Student-t\n",
    "- [ ] Stochastic processes\n",
    "\n",
    "On peut utiliser des données réelles\n",
    "- [ ] Données financières\n",
    "\n",
    "#### Nombre d'échantillons\n",
    "2_000 à 20_000 échantillons\n"
   ]
  },
  {
   "cell_type": "code",
   "execution_count": 192,
   "metadata": {},
   "outputs": [
    {
     "data": {
      "image/png": "[encoded data removed]",
      "text/plain": [
       "<Figure size 432x288 with 1 Axes>"
      ]
     },
     "metadata": {
      "needs_background": "light"
     },
     "output_type": "display_data"
    }
   ],
   "source": [
    "import numpy as np\n",
    "from scipy.stats import t, invweibull, genextreme\n",
    "import matplotlib.pyplot as plt\n",
    "\n",
    "\n",
    "### Simulation variables de Student\n",
    "\n",
    "# df = 10\n",
    "# r = t.rvs(df, size=10000)\n",
    "# plt.hist(r, density=True, bins=100, log=False)\n",
    "\n",
    "# fig, ax = plt.subplots(1, 1)\n",
    "# mean, var, skew, kurt = t.stats(df, moments='mvsk')\n",
    "# x = np.linspace(t.ppf(0.01, df),\n",
    "#                 t.ppf(0.99, df), 100)\n",
    "# ax.plot(x, t.pdf(x, df),\n",
    "#        'r-', lw=5, alpha=0.6, label='t pdf')\n",
    "\n",
    "# rv = t(df)\n",
    "# ax.plot(x, rv.pdf(x), 'k-', lw=2, label='frozen pdf')\n",
    "\n",
    "# vals = t.ppf([0.001, 0.5, 0.999], df)\n",
    "# np.allclose([0.001, 0.5, 0.999], t.cdf(vals, df))\n",
    "\n",
    "# ax.hist(r, density=True, histtype='stepfilled', alpha=0.2)\n",
    "# ax.legend(loc='best', frameon=False)\n",
    "# plt.show()\n",
    "\n",
    "def get_student_sample(degrees_freedom, size_sample, get_plot=False, log_plot=False, nb_bins=100):\n",
    "    # Le nombre de degrés de liberté correspond au nombre de paramètres\n",
    "    # Si degrees_freedom < 1 : pas d'espérance\n",
    "    r = t.rvs(degrees_freedom, size=size_sample)\n",
    "    if get_plot:\n",
    "        plt.hist(r, density=True, bins=nb_bins, log=log_plot, label=\"student_samples\", alpha = 0.8)\n",
    "        plt.legend()\n",
    "    return r\n",
    "\n",
    "\n",
    "### Simulation type II EVD (Frechet distribution)\n",
    "\n",
    "\n",
    "def get_frechet_sample(inv_gamma, size_sample, get_plot=False, log_plot=False, nb_bins=100):\n",
    "    r = invweibull.rvs(inv_gamma, size=size_sample)\n",
    "    if get_plot:\n",
    "        plt.hist(r, density=True, bins=nb_bins, log=log_plot, label=\"frechet_samples\", alpha = 0.6)\n",
    "        plt.legend()\n",
    "    return r\n",
    "\n",
    "\n",
    "# # Trouver la relation entre X suit frechet et Y suit GEV\n",
    "# def get_frechet_sample_with_genextreme(inv_gamma, size_sample, get_plot=False, log_plot=False, nb_bins=100):\n",
    "#     # inv_gamma correspond au shape param\n",
    "#     # Si inv_gamma < 1 pas d'esp\n",
    "#     c = -1/inv_gamma\n",
    "#     sigma = 1\n",
    "#     mu = 0\n",
    "#     r = genextreme.rvs(c, size=size_sample)\n",
    "# #     r = (1+1/c*r)**(-c)  # TODO : Trouver la relation entre X suit frechet et Y suit GEV\n",
    "#     if get_plot:\n",
    "#         plt.hist(r, density=True, bins=nb_bins, log=log_plot, label=\"frechet_samples_extreme\", alpha = 0.6)\n",
    "#         plt.legend()\n",
    "#     return r\n",
    "    \n",
    "\n",
    "inv_gamma = 1\n",
    "size_sample = 10000\n",
    "nb_bins = 100\n",
    "r1 = get_frechet_sample(inv_gamma, size_sample, get_plot=True, log_plot=True,nb_bins=nb_bins)\n",
    "# r2 = get_frechet_sample_with_genextreme(inv_gamma, size_sample, get_plot=True, log_plot=True,nb_bins=nb_bins)\n",
    "# print(r1.mean(),r2.mean())"
   ]
  },
  {
   "cell_type": "markdown",
   "metadata": {},
   "source": [
    "### Estimation of optimal tail index with de_hann_1998\n",
    "\n",
    "#### On définit les estimateurs de gamma\n",
    "- [x] estimateur ordre 1\n",
    "- [x] estimateur ordre 2\n",
    "\n",
    "#### On définit l'estimateur erreur quadratique asymptotique\n",
    "- [ ] estimateur asymptotique avec du bootstrap"
   ]
  },
  {
   "cell_type": "code",
   "execution_count": null,
   "metadata": {},
   "outputs": [],
   "source": []
  },
  {
   "cell_type": "code",
   "execution_count": null,
   "metadata": {},
   "outputs": [],
   "source": []
  },
  {
   "cell_type": "code",
   "execution_count": null,
   "metadata": {},
   "outputs": [],
   "source": []
  },
  {
   "cell_type": "code",
   "execution_count": 209,
   "metadata": {},
   "outputs": [],
   "source": [
    "### On définit les estimateurs de gamma de de Haan 1998\n",
    "\n",
    "from random import choices\n",
    "\n",
    "\n",
    "def gamma_moment_1_estimator(k, sample):\n",
    "    sorted_sample = np.sort(sample)\n",
    "    k_largest_samples = sorted_sample[-k:]\n",
    "    kest_largest = sorted_sample[-k]\n",
    "    moment_1_estimator = np.mean(np.log(k_largest_samples)-np.log(kest_largest))\n",
    "    return moment_1_estimator\n",
    "\n",
    "# # Test du moment ordre 1\n",
    "# inv_gamma = 5\n",
    "# size_sample = 10000\n",
    "# r1 = get_frechet_sample(inv_gamma, size_sample)\n",
    "# gamma_moment_1_estimator(1000,r1)\n",
    "\n",
    "def gamma_moment_2_estimator(k, sample):\n",
    "    sorted_sample = np.sort(sample)\n",
    "    k_largest_samples = sorted_sample[-k:]\n",
    "    kest_largest = sorted_sample[-k]\n",
    "    moment_2_estimator = np.mean((np.log(k_largest_samples)-np.log(kest_largest))**2)\n",
    "    return moment_2_estimator/(2*gamma_moment_1_estimator(k, sample))\n",
    "\n",
    "# # Test du moment ordre 2\n",
    "# inv_gamma = 3\n",
    "# size_sample = 10000\n",
    "# r1 = get_frechet_sample(inv_gamma, size_sample)\n",
    "# gamma_moment_2_estimator(1000,r1)\n",
    "\n",
    "\n",
    "def Q_bootstrapped_quadratic_asymp_error_estimator(k1, n1_bootstrap, sample, monte_carlo_steps=2000):\n",
    "    # On calcule Q par Monte-Carlo\n",
    "    q_values_list = list()\n",
    "    for i in range(monte_carlo_steps):\n",
    "        bootstrapped_sample = choices(sample, k=n1_bootstrap)\n",
    "        gamma_moment_1 = gamma_moment_1_estimator(k1, bootstrapped_sample)\n",
    "        gamma_moment_2 = gamma_moment_2_estimator(k1, bootstrapped_sample)\n",
    "        q_value = (gamma_moment_2*(2*gamma_moment_1) - 2*gamma_moment_1**2)**2\n",
    "        q_values_list.append(q_value)\n",
    "    return np.mean(q_values_list)\n",
    "\n",
    "\n",
    "def find_argmin_Q()"
   ]
  },
  {
   "cell_type": "code",
   "execution_count": 214,
   "metadata": {},
   "outputs": [],
   "source": [
    "r = np.random.randn(3)"
   ]
  },
  {
   "cell_type": "code",
   "execution_count": 231,
   "metadata": {},
   "outputs": [
    {
     "data": {
      "text/plain": [
       "[0.6232925773287759,\n",
       " 0.6232925773287759,\n",
       " 1.5199650101571107,\n",
       " -0.5852033687963764,\n",
       " -0.5852033687963764,\n",
       " 1.5199650101571107,\n",
       " -0.5852033687963764,\n",
       " 1.5199650101571107,\n",
       " -0.5852033687963764,\n",
       " 1.5199650101571107]"
      ]
     },
     "execution_count": 231,
     "metadata": {},
     "output_type": "execute_result"
    }
   ],
   "source": [
    "choices(r, k=10)"
   ]
  },
  {
   "cell_type": "code",
   "execution_count": null,
   "metadata": {},
   "outputs": [],
   "source": []
  },
  {
   "cell_type": "code",
   "execution_count": null,
   "metadata": {},
   "outputs": [],
   "source": []
  },
  {
   "cell_type": "code",
   "execution_count": null,
   "metadata": {},
   "outputs": [],
   "source": []
  },
  {
   "cell_type": "code",
   "execution_count": null,
   "metadata": {},
   "outputs": [],
   "source": []
  }
 ],
 "metadata": {
  "kernelspec": {
   "display_name": "Python 3",
   "language": "python",
   "name": "python3"
  },
  "language_info": {
   "codemirror_mode": {
    "name": "ipython",
    "version": 3
   },
   "file_extension": ".py",
   "mimetype": "text/x-python",
   "name": "python",
   "nbconvert_exporter": "python",
   "pygments_lexer": "ipython3",
   "version": "3.8.5"
  }
 },
 "nbformat": 4,
 "nbformat_minor": 4
}
