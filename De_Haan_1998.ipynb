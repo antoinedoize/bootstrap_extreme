{
 "cells": [
  {
   "cell_type": "markdown",
   "metadata": {},
   "source": [
    "# Using a Bootstrap Method to Choose the Sample Fraction in Tail Index Estimation\n",
    "### Generation of data\n",
    "\n",
    "#### Distribution\n",
    "On peut utiliser des données i.i.d. :\n",
    "- [x] Student-t\n",
    "- [x] type 2 (=Frechet) extreme value distribution\n",
    "- [ ] generalized extreme value distribution (pas dans l'article)\n",
    "\n",
    "On peut utiliser des données dépendantes :\n",
    "- [ ] MA(1) process avec des variables cachées de Student-t\n",
    "- [ ] Stochastic processes\n",
    "\n",
    "On peut utiliser des données réelles\n",
    "- [ ] Données financières\n",
    "\n",
    "#### Nombre d'échantillons\n",
    "2_000 à 20_000 échantillons\n"
   ]
  },
  {
   "cell_type": "code",
   "execution_count": 23,
   "metadata": {},
   "outputs": [],
   "source": [
    "import numpy as np\n",
    "from scipy.stats import t, invweibull, genextreme\n",
    "import matplotlib.pyplot as plt\n",
    "\n",
    "\n",
    "### Simulation variables de Student\n",
    "\n",
    "# df = 10\n",
    "# r = t.rvs(df, size=10000)\n",
    "# plt.hist(r, density=True, bins=100, log=False)\n",
    "\n",
    "# fig, ax = plt.subplots(1, 1)\n",
    "# mean, var, skew, kurt = t.stats(df, moments='mvsk')\n",
    "# x = np.linspace(t.ppf(0.01, df),\n",
    "#                 t.ppf(0.99, df), 100)\n",
    "# ax.plot(x, t.pdf(x, df),\n",
    "#        'r-', lw=5, alpha=0.6, label='t pdf')\n",
    "\n",
    "# rv = t(df)\n",
    "# ax.plot(x, rv.pdf(x), 'k-', lw=2, label='frozen pdf')\n",
    "\n",
    "# vals = t.ppf([0.001, 0.5, 0.999], df)\n",
    "# np.allclose([0.001, 0.5, 0.999], t.cdf(vals, df))\n",
    "\n",
    "# ax.hist(r, density=True, histtype='stepfilled', alpha=0.2)\n",
    "# ax.legend(loc='best', frameon=False)\n",
    "# plt.show()\n",
    "\n",
    "def get_student_sample(degrees_freedom, size_sample, get_plot=False, log_plot=False, nb_bins=100):\n",
    "    # Le nombre de degrés de liberté correspond au nombre de paramètres\n",
    "    # Si degrees_freedom < 1 : pas d'espérance\n",
    "    r = t.rvs(degrees_freedom, size=size_sample)\n",
    "    if get_plot:\n",
    "        plt.hist(r, density=True, bins=nb_bins, log=log_plot, label=\"student_samples\", alpha = 0.8)\n",
    "        plt.legend()\n",
    "    return r\n",
    "\n",
    "\n",
    "### Simulation type II EVD (Frechet distribution)\n",
    "\n",
    "\n",
    "def get_frechet_sample(inv_gamma, size_sample, get_plot=False, log_plot=False, nb_bins=100):\n",
    "    r = invweibull.rvs(inv_gamma, size=size_sample)\n",
    "    if get_plot:\n",
    "        plt.hist(r, density=True, bins=nb_bins, log=log_plot, label=\"frechet_samples\", alpha = 0.6)\n",
    "        plt.legend()\n",
    "    return r\n",
    "\n",
    "\n",
    "# # Trouver la relation entre X suit frechet et Y suit GEV\n",
    "# def get_frechet_sample_with_genextreme(inv_gamma, size_sample, get_plot=False, log_plot=False, nb_bins=100):\n",
    "#     # inv_gamma correspond au shape param\n",
    "#     # Si inv_gamma < 1 pas d'esp\n",
    "#     c = -1/inv_gamma\n",
    "#     sigma = 1\n",
    "#     mu = 0\n",
    "#     r = genextreme.rvs(c, size=size_sample)\n",
    "# #     r = (1+1/c*r)**(-c)  # TODO : Trouver la relation entre X suit frechet et Y suit GEV\n",
    "#     if get_plot:\n",
    "#         plt.hist(r, density=True, bins=nb_bins, log=log_plot, label=\"frechet_samples_extreme\", alpha = 0.6)\n",
    "#         plt.legend()\n",
    "#     return r\n",
    "    "
   ]
  },
  {
   "cell_type": "markdown",
   "metadata": {},
   "source": [
    "### Estimation of optimal tail index with de_haan_1998\n",
    "\n",
    "#### On définit les estimateurs de gamma\n",
    "- [x] estimateur ordre 1\n",
    "- [x] estimateur ordre 2\n",
    "\n",
    "#### On applique la méthode de de_haan_1998\n",
    "- [x] estimateur asymptotique avec du bootstrap\n",
    "- [ ] technique pour optimiser le bootstrap\n",
    "- [ ] déduction de la taille de bootstrap optimale ? ou bien simplement direct intervalle de confiance en gamma ?\n"
   ]
  },
  {
   "cell_type": "code",
   "execution_count": 57,
   "metadata": {
    "scrolled": true
   },
   "outputs": [],
   "source": [
    "### On définit les estimateurs de gamma de de Haan 1998\n",
    "### On définit l'estimateur de la variance asymptotique\n",
    "### on minimise cet estimateur par rapport à k pour une taille de bootstrap donnée\n",
    "\n",
    "from random import choices\n",
    "from tqdm.notebook import tqdm\n",
    "\n",
    "\n",
    "def gamma_moment_1_estimator(k, sample):\n",
    "    sorted_sample = np.sort(sample)\n",
    "    k_largest_samples = sorted_sample[-k:]\n",
    "    kest_largest = sorted_sample[-k]\n",
    "    moment_1_estimator = np.mean(np.log(k_largest_samples)-np.log(kest_largest))\n",
    "    return moment_1_estimator\n",
    "\n",
    "# # Test du moment ordre 1\n",
    "# inv_gamma = 5\n",
    "# size_sample = 10000\n",
    "# r1 = get_frechet_sample(inv_gamma, size_sample)\n",
    "# gamma_moment_1_estimator(1000,r1)\n",
    "\n",
    "def gamma_moment_2_estimator(k, sample):\n",
    "    sorted_sample = np.sort(sample)\n",
    "    k_largest_samples = sorted_sample[-k:]\n",
    "    kest_largest = sorted_sample[-k]\n",
    "    moment_2_estimator = np.mean((np.log(k_largest_samples)-np.log(kest_largest))**2)\n",
    "    return moment_2_estimator/(2*gamma_moment_1_estimator(k, sample))\n",
    "\n",
    "# # Test du moment ordre 2\n",
    "# inv_gamma = 3\n",
    "# size_sample = 10000\n",
    "# r1 = get_frechet_sample(inv_gamma, size_sample)\n",
    "# gamma_moment_2_estimator(1000,r1)\n",
    "\n",
    "\n",
    "def Q_bootstrapped_quadratic_asymp_error_estimator(k1, n1_bootstrap, sample, monte_carlo_steps):\n",
    "    # On calcule Q par Monte-Carlo\n",
    "    q_values_list = list()\n",
    "    for i in range(monte_carlo_steps):\n",
    "        bootstrapped_sample = choices(sample, k=n1_bootstrap)\n",
    "        gamma_moment_1 = gamma_moment_1_estimator(k1, bootstrapped_sample)\n",
    "        gamma_moment_2 = gamma_moment_2_estimator(k1, bootstrapped_sample)\n",
    "        q_value = (gamma_moment_2*(2*gamma_moment_1) - 2*gamma_moment_1**2)**2\n",
    "        q_values_list.append(q_value)\n",
    "    return np.mean(q_values_list)\n",
    "\n",
    "\n",
    "def find_argmin_Q(n1_bootstrap, sample,\n",
    "                  k_min=5, k_max=\"default\", step=\"default\",\n",
    "                  monte_carlo_steps=2000,\n",
    "                  plot_q_currents = False):\n",
    "    if k_max == \"default\":\n",
    "        k_max = int(n1_bootstrap/4*3)\n",
    "    if step == \"default\":\n",
    "        step = int(n1_bootstrap//20)\n",
    "    list_of_k = range(k_min, k_max, step)\n",
    "    argmin_k = k_min\n",
    "    min_q = Q_bootstrapped_quadratic_asymp_error_estimator(k_min, n1_bootstrap, sample, monte_carlo_steps)\n",
    "    list_q_current = list()\n",
    "    for k_current in tqdm(list_of_k, desc = \"q_minimzation\"):\n",
    "        q_current = Q_bootstrapped_quadratic_asymp_error_estimator(k_current, n1_bootstrap, sample, monte_carlo_steps)\n",
    "        list_q_current.append(q_current)\n",
    "        if q_current < min_q:\n",
    "            min_q = q_current\n",
    "            argmin_k = k_current\n",
    "    if plot_q_currents:\n",
    "        opti_gamma = gamma_moment_1_estimator(argmin_k, sample)\n",
    "        # TODO add description k_min..etc...\n",
    "        plt.plot(list_of_k, list_q_current, label=\"q values\")\n",
    "        plt.title(f\"minimization of Q, k_min={argmin_k}; gamma value is {opti_gamma}\")\n",
    "        plt.legend()\n",
    "        plt.show()\n",
    "    return argmin_k\n",
    "\n",
    "# # Test find_argmin_Q\n",
    "# inv_gamma = 3\n",
    "# size_sample = 10000\n",
    "# r1 = get_frechet_sample(inv_gamma, size_sample)\n",
    "# find_argmin_Q(500, r1, plot_q_currents=True)\n",
    "\n",
    "\n",
    "def test_plot_q_minimization(n1_bootstrap, sample, nb_minimizations):\n",
    "    list_argmin_k = list()\n",
    "    for i in tqdm(range(nb_minimizations), desc = \"iteration minimization\"):\n",
    "        argmin_k = find_argmin_Q(n1_bootstrap, sample, plot_q_currents=True)\n",
    "        list_argmin_k.append(argmin_k)\n",
    "    plt.hist(list_argmin_k)\n",
    "    plt.title(\"Histogram of k minimization\")\n",
    "    plt.show()\n",
    "    return list_argmin_k\n",
    "\n",
    "# Test plot_q_minimization\n",
    "inv_gamma = 3\n",
    "size_sample = 10000\n",
    "r1 = get_frechet_sample(inv_gamma, size_sample)\n",
    "test_plot_q_minimization(500, r1, 100)"
   ]
  },
  {
   "cell_type": "code",
   "execution_count": null,
   "metadata": {},
   "outputs": [
    {
     "data": {
      "application/vnd.jupyter.widget-view+json": {
       "model_id": "758a432cdb524b048b095a4fef483ffe",
       "version_major": 2,
       "version_minor": 0
      },
      "text/plain": [
       "HBox(children=(HTML(value='de_haan_histogram'), FloatProgress(value=0.0), HTML(value='')))"
      ]
     },
     "metadata": {},
     "output_type": "display_data"
    },
    {
     "data": {
      "application/vnd.jupyter.widget-view+json": {
       "model_id": "791117ef232b4e5ea5592d9e70e946e3",
       "version_major": 2,
       "version_minor": 0
      },
      "text/plain": [
       "HBox(children=(HTML(value='q_minimzation'), FloatProgress(value=0.0, max=16.0), HTML(value='')))"
      ]
     },
     "metadata": {},
     "output_type": "display_data"
    },
    {
     "name": "stdout",
     "output_type": "stream",
     "text": [
      "\n"
     ]
    },
    {
     "data": {
      "application/vnd.jupyter.widget-view+json": {
       "model_id": "efa4e7f494284990acf4c4f8386ed6d5",
       "version_major": 2,
       "version_minor": 0
      },
      "text/plain": [
       "HBox(children=(HTML(value='q_minimzation'), FloatProgress(value=0.0, max=15.0), HTML(value='')))"
      ]
     },
     "metadata": {},
     "output_type": "display_data"
    },
    {
     "name": "stdout",
     "output_type": "stream",
     "text": [
      "\n"
     ]
    },
    {
     "data": {
      "application/vnd.jupyter.widget-view+json": {
       "model_id": "bb487cf839a24757853a1dcc5e3c51f4",
       "version_major": 2,
       "version_minor": 0
      },
      "text/plain": [
       "HBox(children=(HTML(value='q_minimzation'), FloatProgress(value=0.0, max=16.0), HTML(value='')))"
      ]
     },
     "metadata": {},
     "output_type": "display_data"
    },
    {
     "name": "stdout",
     "output_type": "stream",
     "text": [
      "\n"
     ]
    },
    {
     "data": {
      "application/vnd.jupyter.widget-view+json": {
       "model_id": "ed39e04a08a94185b9b150337ee18725",
       "version_major": 2,
       "version_minor": 0
      },
      "text/plain": [
       "HBox(children=(HTML(value='q_minimzation'), FloatProgress(value=0.0, max=15.0), HTML(value='')))"
      ]
     },
     "metadata": {},
     "output_type": "display_data"
    },
    {
     "name": "stdout",
     "output_type": "stream",
     "text": [
      "\n"
     ]
    },
    {
     "data": {
      "application/vnd.jupyter.widget-view+json": {
       "model_id": "1bf9022cdac344658b65292ebe79024c",
       "version_major": 2,
       "version_minor": 0
      },
      "text/plain": [
       "HBox(children=(HTML(value='q_minimzation'), FloatProgress(value=0.0, max=16.0), HTML(value='')))"
      ]
     },
     "metadata": {},
     "output_type": "display_data"
    },
    {
     "name": "stdout",
     "output_type": "stream",
     "text": [
      "\n"
     ]
    },
    {
     "data": {
      "application/vnd.jupyter.widget-view+json": {
       "model_id": "296138d9e4444747bbe8f4b2ef48ec8a",
       "version_major": 2,
       "version_minor": 0
      },
      "text/plain": [
       "HBox(children=(HTML(value='q_minimzation'), FloatProgress(value=0.0, max=15.0), HTML(value='')))"
      ]
     },
     "metadata": {},
     "output_type": "display_data"
    },
    {
     "name": "stdout",
     "output_type": "stream",
     "text": [
      "\n"
     ]
    },
    {
     "data": {
      "application/vnd.jupyter.widget-view+json": {
       "model_id": "0f711c0c5369491aa77ee8da82cbb178",
       "version_major": 2,
       "version_minor": 0
      },
      "text/plain": [
       "HBox(children=(HTML(value='q_minimzation'), FloatProgress(value=0.0, max=16.0), HTML(value='')))"
      ]
     },
     "metadata": {},
     "output_type": "display_data"
    },
    {
     "name": "stdout",
     "output_type": "stream",
     "text": [
      "\n"
     ]
    },
    {
     "data": {
      "application/vnd.jupyter.widget-view+json": {
       "model_id": "3167358bf0744ee58632f9e19e036d19",
       "version_major": 2,
       "version_minor": 0
      },
      "text/plain": [
       "HBox(children=(HTML(value='q_minimzation'), FloatProgress(value=0.0, max=15.0), HTML(value='')))"
      ]
     },
     "metadata": {},
     "output_type": "display_data"
    },
    {
     "name": "stdout",
     "output_type": "stream",
     "text": [
      "\n"
     ]
    },
    {
     "data": {
      "application/vnd.jupyter.widget-view+json": {
       "model_id": "62854204c6fd4d969dd4a5de6e91b91c",
       "version_major": 2,
       "version_minor": 0
      },
      "text/plain": [
       "HBox(children=(HTML(value='q_minimzation'), FloatProgress(value=0.0, max=16.0), HTML(value='')))"
      ]
     },
     "metadata": {},
     "output_type": "display_data"
    },
    {
     "name": "stdout",
     "output_type": "stream",
     "text": [
      "\n"
     ]
    },
    {
     "data": {
      "application/vnd.jupyter.widget-view+json": {
       "model_id": "b3a0335000144f9d8a952619f14c6f22",
       "version_major": 2,
       "version_minor": 0
      },
      "text/plain": [
       "HBox(children=(HTML(value='q_minimzation'), FloatProgress(value=0.0, max=15.0), HTML(value='')))"
      ]
     },
     "metadata": {},
     "output_type": "display_data"
    },
    {
     "name": "stdout",
     "output_type": "stream",
     "text": [
      "\n"
     ]
    },
    {
     "data": {
      "application/vnd.jupyter.widget-view+json": {
       "model_id": "02c8eb38a7af4a6fb7791208c2fc9540",
       "version_major": 2,
       "version_minor": 0
      },
      "text/plain": [
       "HBox(children=(HTML(value='q_minimzation'), FloatProgress(value=0.0, max=16.0), HTML(value='')))"
      ]
     },
     "metadata": {},
     "output_type": "display_data"
    },
    {
     "name": "stdout",
     "output_type": "stream",
     "text": [
      "\n"
     ]
    },
    {
     "data": {
      "application/vnd.jupyter.widget-view+json": {
       "model_id": "926b6e1ebb97434ea29656965662081f",
       "version_major": 2,
       "version_minor": 0
      },
      "text/plain": [
       "HBox(children=(HTML(value='q_minimzation'), FloatProgress(value=0.0, max=15.0), HTML(value='')))"
      ]
     },
     "metadata": {},
     "output_type": "display_data"
    },
    {
     "name": "stdout",
     "output_type": "stream",
     "text": [
      "\n"
     ]
    },
    {
     "data": {
      "application/vnd.jupyter.widget-view+json": {
       "model_id": "7f663dcbfef74e2f941068fd5f124d32",
       "version_major": 2,
       "version_minor": 0
      },
      "text/plain": [
       "HBox(children=(HTML(value='q_minimzation'), FloatProgress(value=0.0, max=16.0), HTML(value='')))"
      ]
     },
     "metadata": {},
     "output_type": "display_data"
    },
    {
     "name": "stdout",
     "output_type": "stream",
     "text": [
      "\n"
     ]
    },
    {
     "data": {
      "application/vnd.jupyter.widget-view+json": {
       "model_id": "744644271a6244e2bddfcd34acbdb6a2",
       "version_major": 2,
       "version_minor": 0
      },
      "text/plain": [
       "HBox(children=(HTML(value='q_minimzation'), FloatProgress(value=0.0, max=15.0), HTML(value='')))"
      ]
     },
     "metadata": {},
     "output_type": "display_data"
    },
    {
     "name": "stdout",
     "output_type": "stream",
     "text": [
      "\n"
     ]
    }
   ],
   "source": [
    "### On applique l'algo de de Haan_1998\n",
    "\n",
    "\n",
    "def de_haan_1998(n1_bootstrap, sample):\n",
    "    argmin_k1 = find_argmin_Q(n1_bootstrap, sample,\n",
    "                              k_min=5)\n",
    "    n2_bootstrap = int((n1_bootstrap/len(sample))**2*len(sample))\n",
    "    argmin_k2 = find_argmin_Q(n2_bootstrap, sample,\n",
    "                              k_min=5)\n",
    "    exposant = (np.log(n1_bootstrap) - np.log(argmin_k1))/np.log(n1_bootstrap)\n",
    "    factor_2 = (np.log(argmin_k1)**2/(2*np.log(n1_bootstrap) - np.log(argmin_k1))**2) ** exposant\n",
    "    k0_opti = argmin_k1**2/argmin_k2 * factor_2\n",
    "    return k0_opti\n",
    "\n",
    "\n",
    "# Test de_haan_opti\n",
    "list_gamma = list()\n",
    "for i in tqdm(range(100), desc = \"de_haan_histogram\"):\n",
    "    inv_gamma = 3\n",
    "    size_sample = 20000\n",
    "    r1 = get_frechet_sample(inv_gamma, size_sample)\n",
    "    n1_bootstrap = int(size_sample**(4/5))\n",
    "    k0_opti = int(de_haan_1998(n1_bootstrap, r1))\n",
    "    gamma = gamma_moment_1_estimator(k0_opti, r1)\n",
    "    list_gamma.append(gamma)\n",
    "plt.hist(list_gamma)\n",
    "plt.title(f\"estimation of gamma is {np.mean(list_gamma)} +/- {np.std(list_gamma)} vs true value : {1/inv_gamma}\")"
   ]
  },
  {
   "cell_type": "code",
   "execution_count": 64,
   "metadata": {},
   "outputs": [
    {
     "data": {
      "text/plain": [
       "0.34148653081941965"
      ]
     },
     "execution_count": 64,
     "metadata": {},
     "output_type": "execute_result"
    }
   ],
   "source": [
    "k0_opti = int(k0_opti)\n",
    "gamma_moment_1_estimator(k0_opti, r1)"
   ]
  },
  {
   "cell_type": "code",
   "execution_count": null,
   "metadata": {},
   "outputs": [],
   "source": [
    "141"
   ]
  }
 ],
 "metadata": {
  "kernelspec": {
   "display_name": "Python 3",
   "language": "python",
   "name": "python3"
  },
  "language_info": {
   "codemirror_mode": {
    "name": "ipython",
    "version": 3
   },
   "file_extension": ".py",
   "mimetype": "text/x-python",
   "name": "python",
   "nbconvert_exporter": "python",
   "pygments_lexer": "ipython3",
   "version": "3.8.5"
  }
 },
 "nbformat": 4,
 "nbformat_minor": 4
}
